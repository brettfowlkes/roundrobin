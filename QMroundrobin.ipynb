{
 "cells": [
  {
   "cell_type": "code",
   "execution_count": 2,
   "id": "c101b372",
   "metadata": {},
   "outputs": [
    {
     "name": "stdout",
     "output_type": "stream",
     "text": [
      "Processing: Tech1\n",
      "Processing: Tech2\n",
      "Processing: Tech3\n",
      "Processing: Tech4\n",
      "Processing: Tech5\n",
      "Processing: Tech6\n",
      "Processing: Tech7\n",
      "Processing: Tech8\n",
      "Processing: Tech1\n",
      "Processing: Tech2\n",
      "Processing: Tech3\n",
      "Processing: Tech4\n",
      "Processing: Tech5\n",
      "Processing: Tech6\n",
      "Processing: Tech7\n",
      "Processing: Tech8\n",
      "Processing: Tech1\n",
      "Processing: Tech2\n",
      "Processing: Tech3\n",
      "Processing: Tech4\n",
      "Processing: Tech5\n",
      "Processing: Tech6\n",
      "Processing: Tech7\n",
      "Processing: Tech8\n"
     ]
    }
   ],
   "source": [
    "import time \n",
    "\n",
    "Techs = [\"Tech1\", \"Tech2\", \"Tech3\", \"Tech4\", \"Tech5\", \"Tech6\", \"Tech7\", \"Tech8\"]\n",
    "\n",
    "# Function to loop in round robin order\n",
    "def round_robin_loop(Techs, iterations):\n",
    "    while iterations > 0:\n",
    "        for Tech in Techs:\n",
    "            print(f\"Processing: {Tech}\")\n",
    "            time.sleep(1)  # Simulating some work\n",
    "        iterations -= 1\n",
    "\n",
    "# Number of full rounds you want to loop through\n",
    "rounds = 3\n",
    "\n",
    "round_robin_loop(Techs, rounds)"
   ]
  },
  {
   "cell_type": "code",
   "execution_count": null,
   "id": "0a6e70f5",
   "metadata": {},
   "outputs": [],
   "source": []
  }
 ],
 "metadata": {
  "kernelspec": {
   "display_name": "Python 3 (ipykernel)",
   "language": "python",
   "name": "python3"
  },
  "language_info": {
   "codemirror_mode": {
    "name": "ipython",
    "version": 3
   },
   "file_extension": ".py",
   "mimetype": "text/x-python",
   "name": "python",
   "nbconvert_exporter": "python",
   "pygments_lexer": "ipython3",
   "version": "3.9.13"
  }
 },
 "nbformat": 4,
 "nbformat_minor": 5
}
